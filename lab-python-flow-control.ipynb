{
 "cells": [
  {
   "cell_type": "markdown",
   "id": "d3bfc191-8885-42ee-b0a0-bbab867c6f9f",
   "metadata": {
    "tags": []
   },
   "source": [
    "# Lab | Flow Control"
   ]
  },
  {
   "cell_type": "markdown",
   "id": "3851fcd1-cf98-4653-9c89-e003b7ec9400",
   "metadata": {},
   "source": [
    "## Exercise: Managing Customer Orders Optimized\n",
    "\n",
    "In the last lab, you were starting an online store that sells various products. To ensure smooth operations, you developed a program that manages customer orders and inventory.\n",
    "\n",
    "You did so without using flow control. Let's go a step further and improve this code.\n",
    "\n",
    "Follow the steps below to complete the exercise:\n",
    "\n",
    "1. Look at your code from the lab data structures, and improve repeated code with loops.\n",
    "\n",
    "2. Instead of asking the user to input the name of three products that a customer wants to order, do the following:\n",
    "    \n",
    "    a. Prompt the user to enter the name of a product that a customer wants to order.\n",
    "    \n",
    "    b. Add the product name to the \"customer_orders\" set.\n",
    "    \n",
    "    c. Ask the user if they want to add another product (yes/no).\n",
    "    \n",
    "    d. Continue the loop until the user does not want to add another product.\n",
    "\n",
    "3. Instead of updating the inventory by subtracting 1 from the quantity of each product, only do it for  the products that were ordered (those in \"customer_orders\")."
   ]
  },
  {
   "cell_type": "code",
   "execution_count": 2,
   "id": "2a02e0f0",
   "metadata": {},
   "outputs": [
    {
     "name": "stdout",
     "output_type": "stream",
     "text": [
      "{'tshirt': 9, 'mug': 8, 'hat': 7, 'book': 6, 'keychain': 5}\n"
     ]
    }
   ],
   "source": [
    "#create a list called products and create an empty dictionary for inventory \n",
    "products = [\"tshirt\", \"mug\", \"hat\", \"book\", \"keychain\"]\n",
    "inventory = {}\n",
    "\n",
    "#ask users to input the quantity of the articles in the \n",
    "\n",
    "for product in products:\n",
    "    quantity = int(input(f\"enter the quantity of {product}: \"))\n",
    "    inventory[product]= quantity\n",
    "print(inventory)"
   ]
  },
  {
   "cell_type": "code",
   "execution_count": 12,
   "id": "4b446bd3",
   "metadata": {},
   "outputs": [
    {
     "name": "stdout",
     "output_type": "stream",
     "text": [
      "{'hat', 'mug'}\n"
     ]
    }
   ],
   "source": [
    "customer_orders = set()\n",
    "continue_loop = True\n",
    "while continue_loop:\n",
    "    \n",
    "     order = input(\"enter the name of the product\")\n",
    "     customer_orders.add(order)\n",
    "     stop_shoping = input(\"do you want to add another item\")\n",
    "     if stop_shoping == \"no\":\n",
    "            continue_loop = False\n",
    "print(customer_orders)"
   ]
  },
  {
   "cell_type": "code",
   "execution_count": 13,
   "id": "fb07cc3c",
   "metadata": {},
   "outputs": [
    {
     "name": "stdout",
     "output_type": "stream",
     "text": [
      "{'tshirt': 9, 'mug': 6, 'hat': 5, 'book': 5, 'keychain': 5}\n"
     ]
    }
   ],
   "source": [
    "#substract the ordered items from the inventory\n",
    "\n",
    "for item in customer_orders:\n",
    "    if item in inventory:\n",
    "        inventory[item]-= 1\n",
    "print(inventory)"
   ]
  }
 ],
 "metadata": {
  "kernelspec": {
   "display_name": "Python 3 (ipykernel)",
   "language": "python",
   "name": "python3"
  },
  "language_info": {
   "codemirror_mode": {
    "name": "ipython",
    "version": 3
   },
   "file_extension": ".py",
   "mimetype": "text/x-python",
   "name": "python",
   "nbconvert_exporter": "python",
   "pygments_lexer": "ipython3",
   "version": "3.11.5"
  }
 },
 "nbformat": 4,
 "nbformat_minor": 5
}
